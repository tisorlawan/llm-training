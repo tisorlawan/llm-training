{
 "cells": [
  {
   "cell_type": "markdown",
   "id": "c812969c-f984-4131-8bf7-7360a08fd730",
   "metadata": {},
   "source": [
    "## Setup Ollama Server"
   ]
  },
  {
   "cell_type": "markdown",
   "id": "c538951a-ca47-4668-90d8-f1ba81923847",
   "metadata": {},
   "source": [
    "### Install Ollama\n",
    "```bash\n",
    "curl -fsSL https://ollama.com/install.sh | sh\n",
    "```"
   ]
  },
  {
   "cell_type": "markdown",
   "id": "d359f48c-4056-4026-9995-8fcdf9f5df51",
   "metadata": {},
   "source": [
    "### Download Model. See model library [here](https://ollama.com/library).\n",
    "```bash\n",
    "ollama pull <model>\n",
    "\n",
    "# for example:\n",
    "ollama pull llama3\n",
    "```"
   ]
  },
  {
   "cell_type": "markdown",
   "id": "57388437-3758-46fb-b6b8-c8c40b34f36b",
   "metadata": {
    "jp-MarkdownHeadingCollapsed": true
   },
   "source": [
    "### Run Server\n",
    "\n",
    "```bash\n",
    "ollama serve\n",
    "```"
   ]
  },
  {
   "cell_type": "markdown",
   "id": "f291c21f-a6f9-4dd8-be00-185dd4901334",
   "metadata": {},
   "source": [
    "### Run Model\n",
    "\n",
    "```bash\n",
    "ollama run llama3\n",
    "```"
   ]
  },
  {
   "cell_type": "markdown",
   "id": "386f7007-1f8b-44a9-92fd-de7ea8941687",
   "metadata": {},
   "source": [
    "## Using Ollama"
   ]
  },
  {
   "cell_type": "code",
   "execution_count": null,
   "id": "13851ef1-8eb5-49b6-bee8-fff709b4f2c7",
   "metadata": {},
   "outputs": [],
   "source": [
    "pip install -q ollama"
   ]
  },
  {
   "cell_type": "code",
   "execution_count": null,
   "id": "b9a02139-6f68-44ef-8f17-b6cf8b2d9203",
   "metadata": {},
   "outputs": [],
   "source": [
    "import ollama"
   ]
  },
  {
   "cell_type": "code",
   "execution_count": null,
   "id": "c4fb20bf-1ce5-4718-a828-4c3050a72a30",
   "metadata": {},
   "outputs": [],
   "source": [
    "client = ollama.Client(host=\"http://10.181.131.250:11434\")"
   ]
  },
  {
   "cell_type": "code",
   "execution_count": null,
   "id": "8aedf4a1-05eb-492e-b8d9-ebecdc686fe5",
   "metadata": {},
   "outputs": [],
   "source": [
    "stream = client.chat(\n",
    "    model='llama3', \n",
    "    messages=[\n",
    "        {\n",
    "            \"role\": \"user\",\n",
    "            \"content\": \"Jelaskan sejarah indonesia dalam 30 kata\",\n",
    "        },\n",
    "    ], \n",
    "    stream=True,\n",
    ")\n",
    "\n",
    "for chunk in stream:\n",
    "    print(chunk['message']['content'], end='', flush=True)"
   ]
  },
  {
   "cell_type": "markdown",
   "id": "fdd99d01-9f7c-4b01-b211-5e56e801dfcc",
   "metadata": {},
   "source": [
    "### Options\n",
    "See the available [options](https://github.com/ollama/ollama/blob/main/docs/modelfile.md#valid-parameters-and-values)"
   ]
  },
  {
   "cell_type": "code",
   "execution_count": null,
   "id": "0b0d232b-2d1b-406e-9b0a-3f197e8455d6",
   "metadata": {},
   "outputs": [],
   "source": [
    "stream = client.chat(\n",
    "    model='llama3', \n",
    "    messages=[\n",
    "        {\n",
    "            \"role\": \"user\",\n",
    "            \"content\": \"Why is the sky blue?\",\n",
    "        },\n",
    "    ], \n",
    "    stream=True,\n",
    "    options={\n",
    "        \"num_predict\": 80,\n",
    "    }\n",
    ")\n",
    "\n",
    "for chunk in stream:\n",
    "    print(chunk['message']['content'], end='', flush=True)"
   ]
  },
  {
   "cell_type": "code",
   "execution_count": null,
   "id": "d77a8d70-cc91-489e-96ba-b99c9dee78b1",
   "metadata": {},
   "outputs": [],
   "source": [
    "SYSTEM_PROMPT = \"When I ask for help to write something, you will reply with an answert that contains at least one joke/playful/sarcastic comment. Always answer in Bahasa Indonesia.\""
   ]
  },
  {
   "cell_type": "code",
   "execution_count": null,
   "id": "5f328efc-115f-42fd-a814-8bff38adb34c",
   "metadata": {},
   "outputs": [],
   "source": [
    "stream = client.chat(\n",
    "    model='llama3:latest',\n",
    "    messages=[\n",
    "        {\n",
    "            \"role\": \"system\",\n",
    "            \"content\": SYSTEM_PROMPT,\n",
    "        },\n",
    "        {\n",
    "            \"role\": \"user\", \n",
    "            \"content\": \"Jelaskan sejarah Indonesia dalam 80 kata\"\n",
    "        }\n",
    "    ],\n",
    "    stream=True,\n",
    "    options={\n",
    "        \"num_predict\": 200,\n",
    "    }\n",
    ")\n",
    "\n",
    "for chunk in stream:\n",
    "    print(chunk['message']['content'], end='', flush=True)"
   ]
  }
 ],
 "metadata": {
  "kernelspec": {
   "display_name": "Python 3 (ipykernel)",
   "language": "python",
   "name": "python3"
  },
  "language_info": {
   "codemirror_mode": {
    "name": "ipython",
    "version": 3
   },
   "file_extension": ".py",
   "mimetype": "text/x-python",
   "name": "python",
   "nbconvert_exporter": "python",
   "pygments_lexer": "ipython3",
   "version": "3.12.2"
  }
 },
 "nbformat": 4,
 "nbformat_minor": 5
}
