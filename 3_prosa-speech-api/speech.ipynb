{
 "cells": [
  {
   "cell_type": "markdown",
   "id": "4191b790-a556-4d77-93fa-1384635650c0",
   "metadata": {},
   "source": [
    "## Text to Speech (TTS)\n",
    "\n",
    "For more information open https://speech.prosa.ai"
   ]
  },
  {
   "cell_type": "code",
   "execution_count": null,
   "id": "16b9a87d-0163-4c13-bde2-402af249bf69",
   "metadata": {},
   "outputs": [],
   "source": [
    "import os\n",
    "import requests\n",
    "import base64\n",
    "import json\n",
    "\n",
    "from IPython.display import Audio"
   ]
  },
  {
   "cell_type": "code",
   "execution_count": null,
   "id": "df853f62-d030-4553-84de-f64213a8450d",
   "metadata": {},
   "outputs": [],
   "source": [
    "tts_url = \"https://api.prosa.ai/v2/speech/tts\"\n",
    "api_key = os.environ[\"TTS_API_KEY\"]"
   ]
  },
  {
   "cell_type": "code",
   "execution_count": null,
   "id": "5ca3468e-03ef-4378-9b6b-206d41137e90",
   "metadata": {},
   "outputs": [],
   "source": [
    "def tts(text: str, format: str, filename: str):\n",
    "    job = submit_tts_request(text, format)\n",
    "    \n",
    "    if job[\"status\"] == \"complete\":\n",
    "        audio_data = base64.b64decode(job[\"result\"][\"data\"])\n",
    "        with open(filename, \"wb\") as f:\n",
    "            f.write(audio_data)\n",
    "\n",
    "\n",
    "def submit_tts_request(text: str, audio_format: str) -> dict:\n",
    "    payload = {\n",
    "        \"config\": {\n",
    "            \"model\": \"tts-dimas-storyteller\",\n",
    "            \"wait\": True,\n",
    "            \"audio_format\": audio_format,\n",
    "        },\n",
    "        \"request\": {\n",
    "            \"text\": text,\n",
    "        },\n",
    "    }\n",
    "\n",
    "    response = requests.post(tts_url, json=payload, headers={\"x-api-key\": api_key})\n",
    "    return response.json()"
   ]
  },
  {
   "cell_type": "code",
   "execution_count": null,
   "id": "88f9c1f3-40b6-4ab6-aaeb-45e256b23130",
   "metadata": {},
   "outputs": [],
   "source": [
    "file_output = \"audio_file.webm\"\n",
    "text = \"Halo guys, saya tiso. Salam kenal.\"\n",
    "tts(text, \"opus\", file_output)\n",
    "\n",
    "Audio(file_output)"
   ]
  },
  {
   "cell_type": "code",
   "execution_count": null,
   "id": "22bf0443-1236-4390-a289-5cac6b6efab8",
   "metadata": {},
   "outputs": [],
   "source": [
    "models = requests.get(\"https://api.prosa.ai/v2/speech/tts/models\").json()\n",
    "print(json.dumps(models, indent=2))"
   ]
  },
  {
   "cell_type": "code",
   "execution_count": null,
   "id": "9ff6c514-0ef7-4adb-b4db-4df73cc8f3a6",
   "metadata": {},
   "outputs": [],
   "source": []
  }
 ],
 "metadata": {
  "kernelspec": {
   "display_name": "Python 3 (ipykernel)",
   "language": "python",
   "name": "python3"
  },
  "language_info": {
   "codemirror_mode": {
    "name": "ipython",
    "version": 3
   },
   "file_extension": ".py",
   "mimetype": "text/x-python",
   "name": "python",
   "nbconvert_exporter": "python",
   "pygments_lexer": "ipython3",
   "version": "3.12.2"
  }
 },
 "nbformat": 4,
 "nbformat_minor": 5
}
