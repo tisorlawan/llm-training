{
 "cells": [
  {
   "cell_type": "code",
   "execution_count": null,
   "id": "d0366c77-54eb-404e-beee-519c994993a5",
   "metadata": {},
   "outputs": [],
   "source": [
    "import base64\n",
    "import os\n",
    "import openai\n",
    "import hashlib\n",
    "\n",
    "from IPython.display import Image"
   ]
  },
  {
   "cell_type": "code",
   "execution_count": null,
   "id": "fb257a89-8c81-4f34-a951-41c9e0cff81c",
   "metadata": {},
   "outputs": [],
   "source": [
    "client = openai.OpenAI(api_key=os.environ[\"OPENAI_API_KEY\"])"
   ]
  },
  {
   "cell_type": "code",
   "execution_count": null,
   "id": "6273ccab-5c92-4d3a-aefe-a7fbed5c49a3",
   "metadata": {},
   "outputs": [],
   "source": [
    "def generate_image_dalle3(prompt: str) -> str:\n",
    "    response = client.images.generate(\n",
    "        model=\"dall-e-3\",\n",
    "        prompt=prompt,\n",
    "        size=\"1024x1024\",\n",
    "        quality=\"standard\",\n",
    "        response_format=\"b64_json\",\n",
    "        n=1,\n",
    "    )\n",
    "\n",
    "    bytes = base64.b64decode(response.data[0].b64_json)\n",
    "    filename = \"images/\" + hashlib.md5(bytes).hexdigest() + \".png\"\n",
    "    \n",
    "    with open(filename, \"wb\") as f:\n",
    "        f.write(bytes)\n",
    "\n",
    "    return filename\n",
    "\n",
    "\n",
    "def generate_image_dalle2(prompt: str, size: str = \"1024x1024\") -> str:\n",
    "    response = client.images.generate(\n",
    "        model=\"dall-e-2\",\n",
    "        prompt=prompt,\n",
    "        size=size,\n",
    "        quality=\"standard\",\n",
    "        response_format=\"b64_json\",\n",
    "        n=1,\n",
    "    )\n",
    "\n",
    "    bytes = base64.b64decode(response.data[0].b64_json)\n",
    "    filename = \"images/\" + hashlib.md5(bytes).hexdigest() + \".png\"\n",
    "    \n",
    "    with open(filename, \"wb\") as f:\n",
    "        f.write(bytes)\n",
    "\n",
    "    return filename"
   ]
  },
  {
   "cell_type": "code",
   "execution_count": null,
   "id": "73a1b4a2-c53d-457a-97db-891b149c2bd6",
   "metadata": {},
   "outputs": [],
   "source": [
    "prompt = \"a mars scenery with vintage anime style\"\n",
    "# prompt = \"a ninja is riding a motorcycle, chased by police in tokyo\""
   ]
  },
  {
   "cell_type": "code",
   "execution_count": null,
   "id": "1343262b-1dde-4069-b328-6e5bd0b7a67d",
   "metadata": {},
   "outputs": [],
   "source": [
    "Image(generate_image_dalle3(prompt))"
   ]
  },
  {
   "cell_type": "code",
   "execution_count": null,
   "id": "8ece67e5-ee36-44ea-9390-4dcd09f55c7f",
   "metadata": {},
   "outputs": [],
   "source": [
    "Image(generate_image_dalle2(prompt))"
   ]
  }
 ],
 "metadata": {
  "kernelspec": {
   "display_name": "Python 3 (ipykernel)",
   "language": "python",
   "name": "python3"
  },
  "language_info": {
   "codemirror_mode": {
    "name": "ipython",
    "version": 3
   },
   "file_extension": ".py",
   "mimetype": "text/x-python",
   "name": "python",
   "nbconvert_exporter": "python",
   "pygments_lexer": "ipython3",
   "version": "3.12.2"
  }
 },
 "nbformat": 4,
 "nbformat_minor": 5
}
