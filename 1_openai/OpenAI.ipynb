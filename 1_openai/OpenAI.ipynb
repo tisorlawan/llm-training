{
 "cells": [
  {
   "cell_type": "markdown",
   "id": "d3e25543-9e92-458b-870c-0141ee09db58",
   "metadata": {},
   "source": [
    "## Setup"
   ]
  },
  {
   "cell_type": "code",
   "execution_count": null,
   "id": "3f034ac5-afac-4ad6-afda-72be7916d8e2",
   "metadata": {},
   "outputs": [],
   "source": [
    "# install openai library\n",
    "%pip install -q openai"
   ]
  },
  {
   "cell_type": "code",
   "execution_count": null,
   "id": "18e34e2c-4bb5-4b02-be27-bd08ef40509a",
   "metadata": {},
   "outputs": [],
   "source": [
    "import os\n",
    "import openai"
   ]
  },
  {
   "cell_type": "markdown",
   "id": "5a96ec70-7097-4604-ba61-54a61e8f44c2",
   "metadata": {},
   "source": [
    "### Get your OpenAI API Key\n",
    "\n",
    "1. Register to [OpenAI](https://platform.openai.com/)\n",
    "2. Get your API Key [here](https://platform.openai.com/api-keys)\n",
    "   ```\n",
    "   There is only possibility of a free trial credit, which expires three months after you first created your OpenAI account.\n",
    "   ```"
   ]
  },
  {
   "cell_type": "code",
   "execution_count": null,
   "id": "9b9c2202-75c5-4d60-a43a-a7d24a799aad",
   "metadata": {},
   "outputs": [],
   "source": [
    "# to setup, we *just* need the API Key\n",
    "client = openai.OpenAI(api_key=os.environ[\"OPENAI_API_KEY\"])"
   ]
  },
  {
   "cell_type": "markdown",
   "id": "3eccd414-770c-4624-9e22-0cd3a7a1623c",
   "metadata": {},
   "source": [
    "## Using Completion API"
   ]
  },
  {
   "cell_type": "code",
   "execution_count": null,
   "id": "ed79daf4-4c28-4ad7-a829-8a14d3b1a000",
   "metadata": {},
   "outputs": [],
   "source": [
    "model = \"gpt-3.5-turbo\" # see more models: https://platform.openai.com/docs/models\n",
    "                        # see the pricings: https://openai.com/pricing\n",
    "stream = client.chat.completions.create(\n",
    "    model=model,\n",
    "    messages=[\n",
    "        {\n",
    "            \"role\": \"user\", \n",
    "            \"content\": \"Jelaskan sejarah Indonesia dalam 50 kata\"\n",
    "        }\n",
    "    ],\n",
    "    stream=True,\n",
    ")\n",
    "\n",
    "for chunk in stream:\n",
    "    print(chunk.choices[0].delta.content or \"\", end=\"\")"
   ]
  },
  {
   "cell_type": "markdown",
   "id": "40414fdf-acdd-4c30-a93d-2292be4767f1",
   "metadata": {},
   "source": [
    "### Message Role\n",
    "1. `system`: rule/guideline for the assistant/LLM.\n",
    "2. `user`: user input\n",
    "3. `assistant`: LLM's answer"
   ]
  },
  {
   "cell_type": "code",
   "execution_count": null,
   "id": "feb373b9-8750-41d8-a51e-be4f8bb5f298",
   "metadata": {},
   "outputs": [],
   "source": [
    "# System prompt\n",
    "SYSTEM_PROMPT = \"When I ask for help to write something, you will reply with an answer that contains at least one joke/playful/sarcastic comment. Always answer in Bahasa Indonesia.\"\n",
    "\n",
    "stream = client.chat.completions.create(\n",
    "    model=model,\n",
    "    messages=[\n",
    "        {\n",
    "            \"role\": \"system\",\n",
    "            \"content\": SYSTEM_PROMPT,\n",
    "        },\n",
    "        {\n",
    "            \"role\": \"user\", \n",
    "            \"content\": \"Jelaskan sejarah Indonesia dalam 80 kata\"\n",
    "        }\n",
    "    ],\n",
    "    stream=True,\n",
    "    max_tokens=200\n",
    ")\n",
    "\n",
    "for chunk in stream:\n",
    "    print(chunk.choices[0].delta.content or \"\", end=\"\")"
   ]
  },
  {
   "cell_type": "code",
   "execution_count": null,
   "id": "d111b4f0-f100-4f5a-823b-4c97d4c0c55a",
   "metadata": {},
   "outputs": [],
   "source": [
    "# Assistant prompt\n",
    "stream = client.chat.completions.create(\n",
    "    model=model,\n",
    "    messages=[\n",
    "        {\n",
    "            \"role\": \"system\",\n",
    "            \"content\": SYSTEM_PROMPT,\n",
    "        },\n",
    "        {\n",
    "            \"role\": \"user\", \n",
    "            \"content\": \"Jelaskan sejarah Indonesia dalam 50 kata\"\n",
    "        },\n",
    "        {\n",
    "            \"role\": \"assistant\",\n",
    "            \"content\": \"Dulu kala, ada kerajaan-kerajaan besar seperti Sriwijaya dan Majapahit. Lalu datanglah penjajah dari Eropa, berantem-berantem dulu sampe akhirnya kita merdeka tahun 1945. Nah, setelah itu banyak peristiwa penting kayak Konfrontasi dengan Malaysia, Demo '98, dan akhirnya terakhirnya lagi ada pandemi COVID-19 yang bikin kita semua baper. Tapi yaudahlah, semoga kita tetap kuat dan semangat menyongsong masa depan yang lebih cerah, ya!\"\n",
    "        },\n",
    "        {\n",
    "            \"role\": \"user\",\n",
    "            \"content\": \"who is the 3rd president ?\",\n",
    "        }\n",
    "    ],\n",
    "    stream=True,\n",
    "    max_tokens=200\n",
    ")\n",
    "\n",
    "for chunk in stream:\n",
    "    print(chunk.choices[0].delta.content or \"\", end=\"\")"
   ]
  },
  {
   "cell_type": "markdown",
   "id": "b79e1233-b0be-40d3-abb4-8246840cb529",
   "metadata": {},
   "source": [
    "### Important Parameters\n",
    "\n",
    "See the [complete documentation](https://platform.openai.com/docs/api-reference/chat)."
   ]
  },
  {
   "cell_type": "markdown",
   "id": "f5edcc89-d36c-45ab-949e-0bd27e951307",
   "metadata": {},
   "source": [
    "#### max_tokens"
   ]
  },
  {
   "cell_type": "code",
   "execution_count": null,
   "id": "777b781d-c327-402e-b5f5-6ead372dee2a",
   "metadata": {},
   "outputs": [],
   "source": [
    "stream = client.chat.completions.create(\n",
    "    model=model,\n",
    "    messages=[\n",
    "        {\n",
    "            \"role\": \"system\",\n",
    "            \"content\": SYSTEM_PROMPT,\n",
    "        },\n",
    "        {\n",
    "            \"role\": \"user\", \n",
    "            \"content\": \"Jelaskan sejarah Indonesia dalam 80 kata\"\n",
    "        }\n",
    "    ],\n",
    "    stream=True,\n",
    "    max_tokens=60\n",
    ")\n",
    "\n",
    "total_tokens = 0\n",
    "for chunk in stream:\n",
    "    print(chunk.choices[0].delta.content or \"\", end=\"\")\n",
    "    total_tokens += 1\n",
    "\n",
    "print(\"\\nTotal tokens:\", total_tokens)"
   ]
  },
  {
   "cell_type": "markdown",
   "id": "68e00da2-c1db-4c03-8810-c74c353124d3",
   "metadata": {},
   "source": [
    "#### temperature"
   ]
  },
  {
   "cell_type": "code",
   "execution_count": null,
   "id": "17623fc2-d5dc-45a4-b950-a691d96424c8",
   "metadata": {},
   "outputs": [],
   "source": [
    "stream = client.chat.completions.create(\n",
    "    model=model,\n",
    "    messages=[\n",
    "        {\n",
    "            \"role\": \"user\", \n",
    "            \"content\": \"Jelaskan sejarah Indonesia dalam 80 kata\"\n",
    "        }\n",
    "    ],\n",
    "    stream=True,\n",
    "    max_tokens=100,\n",
    "    temperature=0.0\n",
    ")\n",
    "for chunk in stream:\n",
    "    print(chunk.choices[0].delta.content or \"\", end=\"\")"
   ]
  },
  {
   "cell_type": "markdown",
   "id": "1ab58127-4a5a-42af-a988-5aa8b6c7b922",
   "metadata": {},
   "source": [
    "#### stream"
   ]
  },
  {
   "cell_type": "code",
   "execution_count": null,
   "id": "4da30549-20d8-4903-ae07-96c037ed9d04",
   "metadata": {},
   "outputs": [],
   "source": [
    "# stream = False\n",
    "response = client.chat.completions.create(\n",
    "    model=model,\n",
    "    messages=[\n",
    "        {\n",
    "            \"role\": \"system\",\n",
    "            \"content\": SYSTEM_PROMPT,\n",
    "        },\n",
    "        {\n",
    "            \"role\": \"user\", \n",
    "            \"content\": \"Jelaskan sejarah Indonesia dalam 30 kata\"\n",
    "        }\n",
    "    ],\n",
    "    stream=False,\n",
    "    max_tokens=60\n",
    ")\n",
    "print(response.choices[0].message.content)"
   ]
  },
  {
   "cell_type": "code",
   "execution_count": null,
   "id": "ae2fadfb-8117-4fa8-b192-013169b2dfc6",
   "metadata": {},
   "outputs": [],
   "source": [
    "# stream = True\n",
    "stream = client.chat.completions.create(\n",
    "    model=model,\n",
    "    messages=[\n",
    "        {\n",
    "            \"role\": \"system\",\n",
    "            \"content\": SYSTEM_PROMPT,\n",
    "        },\n",
    "        {\n",
    "            \"role\": \"user\", \n",
    "            \"content\": \"Jelaskan sejarah Indonesia dalam 20 kata\"\n",
    "        }\n",
    "    ],\n",
    "    stream=True,\n",
    "    max_tokens=10\n",
    ")\n",
    "\n",
    "# finish_reason = \"stop\" | \"length\"\n",
    "# finish_reason=\"length\" indicates the generation exceeded max_tokens or the conversation exceeded the max context length.\n",
    "for chunk in stream:\n",
    "    print(chunk.choices[0])"
   ]
  }
 ],
 "metadata": {
  "kernelspec": {
   "display_name": "Python 3 (ipykernel)",
   "language": "python",
   "name": "python3"
  },
  "language_info": {
   "codemirror_mode": {
    "name": "ipython",
    "version": 3
   },
   "file_extension": ".py",
   "mimetype": "text/x-python",
   "name": "python",
   "nbconvert_exporter": "python",
   "pygments_lexer": "ipython3",
   "version": "3.12.2"
  }
 },
 "nbformat": 4,
 "nbformat_minor": 5
}
