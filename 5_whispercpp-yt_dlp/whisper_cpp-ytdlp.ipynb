{
 "cells": [
  {
   "cell_type": "markdown",
   "id": "c3085257-d985-47d2-982f-a93e9109dc74",
   "metadata": {},
   "source": [
    "## Whisper.cpp"
   ]
  },
  {
   "cell_type": "markdown",
   "id": "d7b94343-7bef-420d-85c6-1434e88f36c5",
   "metadata": {},
   "source": [
    "### Installataion"
   ]
  },
  {
   "cell_type": "code",
   "execution_count": null,
   "id": "eb38a2f2-1b56-4154-aad2-47e733d2a050",
   "metadata": {},
   "outputs": [],
   "source": [
    "!git clone https://github.com/ggerganov/whisper.cpp.git"
   ]
  },
  {
   "cell_type": "code",
   "execution_count": null,
   "id": "b97d39e7-19e0-47ab-a698-904a500cbbee",
   "metadata": {},
   "outputs": [],
   "source": [
    "%cd \"whisper.cpp\"\n",
    "!make\n",
    "%cd .."
   ]
  },
  {
   "cell_type": "markdown",
   "id": "2802deaf-b688-468c-8e52-cb42119ffe42",
   "metadata": {},
   "source": [
    "### Download Model"
   ]
  },
  {
   "cell_type": "code",
   "execution_count": null,
   "id": "ef3d256f-3d5a-4b45-85d9-05b0b321f68c",
   "metadata": {},
   "outputs": [],
   "source": [
    "%cd \"whisper.cpp\"\n",
    "!./models/download-ggml-model.sh base\n",
    "%cd .."
   ]
  },
  {
   "cell_type": "markdown",
   "id": "a1bc2f84-6986-4184-88a8-f662440fdc51",
   "metadata": {},
   "source": [
    "## yt-dlp"
   ]
  },
  {
   "cell_type": "markdown",
   "id": "99119f4a-ae23-4cef-99cb-8bbc813e85f0",
   "metadata": {},
   "source": [
    "### Installation [guide](https://github.com/yt-dlp/yt-dlp?tab=readme-ov-file#installation)"
   ]
  },
  {
   "cell_type": "code",
   "execution_count": null,
   "id": "527406f2-6869-4221-ab41-859893aa82e2",
   "metadata": {},
   "outputs": [],
   "source": [
    "url = \"https://www.youtube.com/watch?v=Ph4dVSmVCZ4\"\n",
    "output_file = \"output.wav\""
   ]
  },
  {
   "cell_type": "code",
   "execution_count": null,
   "id": "a6d5430b-4ba0-497a-879f-13079c45d4f3",
   "metadata": {},
   "outputs": [],
   "source": [
    "!yt-dlp \\\n",
    "  --verbose \\\n",
    "  --extract-audio \\\n",
    "  --audio-format wav \\\n",
    "  --postprocessor-args \"-ar 16000\" \\\n",
    "  -o \"$output_file\" \\\n",
    "  \"$url\""
   ]
  },
  {
   "cell_type": "code",
   "execution_count": null,
   "id": "7bad5758-96cf-48d1-b3f0-834d93ea00e4",
   "metadata": {},
   "outputs": [],
   "source": [
    "!ls"
   ]
  },
  {
   "cell_type": "code",
   "execution_count": null,
   "id": "db4b0f12-c792-4344-ae6d-edf709e6cc24",
   "metadata": {},
   "outputs": [],
   "source": [
    "from IPython.display import Audio\n",
    "Audio(\"output.wav\")"
   ]
  },
  {
   "cell_type": "markdown",
   "id": "37aaac24-b088-4307-931a-1b467b5eb428",
   "metadata": {},
   "source": [
    "## Transcribe Audio"
   ]
  },
  {
   "cell_type": "code",
   "execution_count": null,
   "id": "7364b750-6221-4489-a173-94b9663ee38b",
   "metadata": {},
   "outputs": [],
   "source": [
    "from IPython.display import Image\n",
    "Image(\"./docs/flow.png\")"
   ]
  },
  {
   "cell_type": "code",
   "execution_count": null,
   "id": "17091d7d-4822-4b2e-a241-cc5b2464d840",
   "metadata": {},
   "outputs": [],
   "source": [
    "!./whisper.cpp/main \\\n",
    "  -m whisper.cpp/models/ggml-base.bin \\\n",
    "  -f \"$output_file\" \\\n",
    "  -of transcript \\\n",
    "  --language id \\\n",
    "  --output-lrc"
   ]
  },
  {
   "cell_type": "code",
   "execution_count": null,
   "id": "90f8093d-b940-42b2-8c4b-765130a41423",
   "metadata": {},
   "outputs": [],
   "source": [
    "!ls"
   ]
  },
  {
   "cell_type": "code",
   "execution_count": null,
   "id": "b6f4a89b-f323-4c69-b9b3-dcef4d6f59d5",
   "metadata": {},
   "outputs": [],
   "source": [
    "!cat transcript.lrc"
   ]
  }
 ],
 "metadata": {
  "kernelspec": {
   "display_name": "Python 3 (ipykernel)",
   "language": "python",
   "name": "python3"
  },
  "language_info": {
   "codemirror_mode": {
    "name": "ipython",
    "version": 3
   },
   "file_extension": ".py",
   "mimetype": "text/x-python",
   "name": "python",
   "nbconvert_exporter": "python",
   "pygments_lexer": "ipython3",
   "version": "3.12.2"
  }
 },
 "nbformat": 4,
 "nbformat_minor": 5
}
