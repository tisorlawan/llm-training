{
 "cells": [
  {
   "cell_type": "markdown",
   "id": "0099f35c-b7ed-4c6a-a4ca-c4942a9631bf",
   "metadata": {},
   "source": [
    "# [Anything LLM](https://github.com/Mintplex-Labs/anything-llm)\n",
    "Chat with your docs, use AI Agents, hyper-configurable, multi-user, & no fustrating set up required."
   ]
  },
  {
   "cell_type": "markdown",
   "id": "42e4ef2c-be26-453e-81e1-985439f7bc20",
   "metadata": {},
   "source": [
    "## RAG"
   ]
  },
  {
   "cell_type": "code",
   "execution_count": null,
   "id": "51a36a68-89bc-48ac-9e5a-23411e3595e3",
   "metadata": {},
   "outputs": [],
   "source": [
    "from IPython.display import Image\n",
    "Image(\"./docs/flow.png\")"
   ]
  },
  {
   "cell_type": "markdown",
   "id": "ec40ff9f-de1d-4250-98a1-92586b2e7a47",
   "metadata": {},
   "source": [
    "## Installation using Docker\n",
    "\n",
    "```bash\n",
    "export STORAGE_LOCATION=$HOME/anythingllm && \\\n",
    "mkdir -p $STORAGE_LOCATION && \\\n",
    "touch \"$STORAGE_LOCATION/.env\" && \\\n",
    "docker run -d -p 3001:3001 \\\n",
    "--cap-add SYS_ADMIN \\\n",
    "--name anythingllm \\\n",
    "-v ${STORAGE_LOCATION}:/app/server/storage \\\n",
    "-v ${STORAGE_LOCATION}/.env:/app/server/.env \\\n",
    "-e STORAGE_DIR=\"/app/server/storage\" \\\n",
    "mintplexlabs/anythingllm\n",
    "```"
   ]
  },
  {
   "cell_type": "markdown",
   "id": "47165465-1b4d-45d0-b668-165c4ac4f127",
   "metadata": {},
   "source": [
    "Open [the frontend](http://localhost:3001)"
   ]
  },
  {
   "cell_type": "code",
   "execution_count": null,
   "id": "3620994a-5586-4a50-afcc-9dd6524c98ce",
   "metadata": {},
   "outputs": [],
   "source": []
  }
 ],
 "metadata": {
  "kernelspec": {
   "display_name": "Python 3 (ipykernel)",
   "language": "python",
   "name": "python3"
  },
  "language_info": {
   "codemirror_mode": {
    "name": "ipython",
    "version": 3
   },
   "file_extension": ".py",
   "mimetype": "text/x-python",
   "name": "python",
   "nbconvert_exporter": "python",
   "pygments_lexer": "ipython3",
   "version": "3.12.2"
  }
 },
 "nbformat": 4,
 "nbformat_minor": 5
}
